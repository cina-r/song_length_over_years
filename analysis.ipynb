{
 "cells": [
  {
   "cell_type": "code",
   "execution_count": 1,
   "metadata": {},
   "outputs": [],
   "source": [
    "import numpy as np \r\n",
    "import pandas as pd\r\n",
    "import matplotlib.pyplot as plt\r\n",
    "from sklearn.linear_model import LinearRegression\r\n",
    "\r\n",
    "pd.set_option(\"display.max_columns\", None)"
   ]
  },
  {
   "cell_type": "markdown",
   "metadata": {},
   "source": [
    "## Prepare data"
   ]
  },
  {
   "cell_type": "markdown",
   "metadata": {},
   "source": [
    "### Build DataFrame"
   ]
  },
  {
   "cell_type": "code",
   "execution_count": 2,
   "metadata": {},
   "outputs": [],
   "source": [
    "data_train = pd.read_csv('data/train.csv')"
   ]
  },
  {
   "cell_type": "code",
   "execution_count": 3,
   "metadata": {},
   "outputs": [
    {
     "data": {
      "text/html": [
       "<div>\n",
       "<style scoped>\n",
       "    .dataframe tbody tr th:only-of-type {\n",
       "        vertical-align: middle;\n",
       "    }\n",
       "\n",
       "    .dataframe tbody tr th {\n",
       "        vertical-align: top;\n",
       "    }\n",
       "\n",
       "    .dataframe thead th {\n",
       "        text-align: right;\n",
       "    }\n",
       "</style>\n",
       "<table border=\"1\" class=\"dataframe\">\n",
       "  <thead>\n",
       "    <tr style=\"text-align: right;\">\n",
       "      <th></th>\n",
       "      <th>id</th>\n",
       "      <th>name</th>\n",
       "      <th>release_date</th>\n",
       "      <th>artists</th>\n",
       "      <th>total_tracks</th>\n",
       "      <th>t_name0</th>\n",
       "      <th>t_name1</th>\n",
       "      <th>t_name2</th>\n",
       "      <th>t_dur0</th>\n",
       "      <th>t_dur1</th>\n",
       "      <th>t_dur2</th>\n",
       "      <th>t_dance0</th>\n",
       "      <th>t_dance1</th>\n",
       "      <th>t_dance2</th>\n",
       "      <th>t_energy0</th>\n",
       "      <th>t_energy1</th>\n",
       "      <th>t_energy2</th>\n",
       "      <th>t_key0</th>\n",
       "      <th>t_key1</th>\n",
       "      <th>t_key2</th>\n",
       "      <th>t_mode0</th>\n",
       "      <th>t_mode1</th>\n",
       "      <th>t_mode2</th>\n",
       "      <th>t_speech0</th>\n",
       "      <th>t_speech1</th>\n",
       "      <th>t_speech2</th>\n",
       "      <th>t_acous0</th>\n",
       "      <th>t_acous1</th>\n",
       "      <th>t_acous2</th>\n",
       "      <th>t_ins0</th>\n",
       "      <th>t_ins1</th>\n",
       "      <th>t_ins2</th>\n",
       "      <th>t_live0</th>\n",
       "      <th>t_live1</th>\n",
       "      <th>t_live2</th>\n",
       "      <th>t_val0</th>\n",
       "      <th>t_val1</th>\n",
       "      <th>t_val2</th>\n",
       "      <th>t_tempo0</th>\n",
       "      <th>t_tempo1</th>\n",
       "      <th>t_tempo2</th>\n",
       "      <th>t_sig0</th>\n",
       "      <th>t_sig1</th>\n",
       "      <th>t_sig2</th>\n",
       "      <th>popularity</th>\n",
       "    </tr>\n",
       "  </thead>\n",
       "  <tbody>\n",
       "    <tr>\n",
       "      <th>0</th>\n",
       "      <td>0</td>\n",
       "      <td>Ya Solo Eres Mi Ex</td>\n",
       "      <td>2021-09-09</td>\n",
       "      <td>La Adictiva Banda San José de Mesillas,</td>\n",
       "      <td>7</td>\n",
       "      <td>Ya Solo Eres Mi Ex</td>\n",
       "      <td>La Malagueña</td>\n",
       "      <td>México Lindo y Querido</td>\n",
       "      <td>222133</td>\n",
       "      <td>189133.0</td>\n",
       "      <td>165586.0</td>\n",
       "      <td>0.455</td>\n",
       "      <td>0.699</td>\n",
       "      <td>0.456</td>\n",
       "      <td>0.324</td>\n",
       "      <td>0.485</td>\n",
       "      <td>0.567</td>\n",
       "      <td>7.0</td>\n",
       "      <td>4.0</td>\n",
       "      <td>0.0</td>\n",
       "      <td>1.0</td>\n",
       "      <td>0.0</td>\n",
       "      <td>1.0</td>\n",
       "      <td>0.0420</td>\n",
       "      <td>0.0298</td>\n",
       "      <td>0.0751</td>\n",
       "      <td>0.537</td>\n",
       "      <td>0.61500</td>\n",
       "      <td>0.319</td>\n",
       "      <td>0.000000</td>\n",
       "      <td>0.000022</td>\n",
       "      <td>0.000006</td>\n",
       "      <td>0.125</td>\n",
       "      <td>0.1080</td>\n",
       "      <td>0.0407</td>\n",
       "      <td>0.626</td>\n",
       "      <td>0.878</td>\n",
       "      <td>0.833</td>\n",
       "      <td>74.924</td>\n",
       "      <td>126.970</td>\n",
       "      <td>197.836</td>\n",
       "      <td>4.0</td>\n",
       "      <td>3.0</td>\n",
       "      <td>3.0</td>\n",
       "      <td>51</td>\n",
       "    </tr>\n",
       "    <tr>\n",
       "      <th>1</th>\n",
       "      <td>1</td>\n",
       "      <td>Nibiru</td>\n",
       "      <td>2019-11-29</td>\n",
       "      <td>Ozuna,</td>\n",
       "      <td>18</td>\n",
       "      <td>Nibiru</td>\n",
       "      <td>Hasta Que Salga el Sol</td>\n",
       "      <td>Temporal</td>\n",
       "      <td>158826</td>\n",
       "      <td>188480.0</td>\n",
       "      <td>238293.0</td>\n",
       "      <td>0.814</td>\n",
       "      <td>0.826</td>\n",
       "      <td>0.697</td>\n",
       "      <td>0.566</td>\n",
       "      <td>0.816</td>\n",
       "      <td>0.593</td>\n",
       "      <td>10.0</td>\n",
       "      <td>1.0</td>\n",
       "      <td>2.0</td>\n",
       "      <td>0.0</td>\n",
       "      <td>0.0</td>\n",
       "      <td>0.0</td>\n",
       "      <td>0.3440</td>\n",
       "      <td>0.0683</td>\n",
       "      <td>0.1940</td>\n",
       "      <td>0.081</td>\n",
       "      <td>0.02010</td>\n",
       "      <td>0.227</td>\n",
       "      <td>0.000023</td>\n",
       "      <td>0.000939</td>\n",
       "      <td>0.000000</td>\n",
       "      <td>0.106</td>\n",
       "      <td>0.1270</td>\n",
       "      <td>0.1100</td>\n",
       "      <td>0.158</td>\n",
       "      <td>0.598</td>\n",
       "      <td>0.484</td>\n",
       "      <td>173.023</td>\n",
       "      <td>96.042</td>\n",
       "      <td>148.019</td>\n",
       "      <td>4.0</td>\n",
       "      <td>4.0</td>\n",
       "      <td>4.0</td>\n",
       "      <td>67</td>\n",
       "    </tr>\n",
       "    <tr>\n",
       "      <th>2</th>\n",
       "      <td>2</td>\n",
       "      <td>DAMN.</td>\n",
       "      <td>2017-04-14</td>\n",
       "      <td>Kendrick Lamar,</td>\n",
       "      <td>14</td>\n",
       "      <td>BLOOD.</td>\n",
       "      <td>DNA.</td>\n",
       "      <td>YAH.</td>\n",
       "      <td>118066</td>\n",
       "      <td>185946.0</td>\n",
       "      <td>160293.0</td>\n",
       "      <td>0.357</td>\n",
       "      <td>0.638</td>\n",
       "      <td>0.670</td>\n",
       "      <td>0.238</td>\n",
       "      <td>0.523</td>\n",
       "      <td>0.700</td>\n",
       "      <td>8.0</td>\n",
       "      <td>1.0</td>\n",
       "      <td>1.0</td>\n",
       "      <td>0.0</td>\n",
       "      <td>1.0</td>\n",
       "      <td>1.0</td>\n",
       "      <td>0.2650</td>\n",
       "      <td>0.3570</td>\n",
       "      <td>0.1960</td>\n",
       "      <td>0.142</td>\n",
       "      <td>0.00454</td>\n",
       "      <td>0.576</td>\n",
       "      <td>0.085900</td>\n",
       "      <td>0.000000</td>\n",
       "      <td>0.000005</td>\n",
       "      <td>0.550</td>\n",
       "      <td>0.0842</td>\n",
       "      <td>0.2260</td>\n",
       "      <td>0.494</td>\n",
       "      <td>0.422</td>\n",
       "      <td>0.648</td>\n",
       "      <td>156.907</td>\n",
       "      <td>139.913</td>\n",
       "      <td>69.986</td>\n",
       "      <td>4.0</td>\n",
       "      <td>4.0</td>\n",
       "      <td>4.0</td>\n",
       "      <td>81</td>\n",
       "    </tr>\n",
       "    <tr>\n",
       "      <th>3</th>\n",
       "      <td>3</td>\n",
       "      <td>Did I Shave My Legs For This?</td>\n",
       "      <td>1996-01-01</td>\n",
       "      <td>Deana Carter,</td>\n",
       "      <td>11</td>\n",
       "      <td>I've Loved Enough To Know</td>\n",
       "      <td>We Danced Anyway</td>\n",
       "      <td>Count Me In</td>\n",
       "      <td>203693</td>\n",
       "      <td>202533.0</td>\n",
       "      <td>205373.0</td>\n",
       "      <td>0.640</td>\n",
       "      <td>0.629</td>\n",
       "      <td>0.616</td>\n",
       "      <td>0.707</td>\n",
       "      <td>0.721</td>\n",
       "      <td>0.327</td>\n",
       "      <td>8.0</td>\n",
       "      <td>6.0</td>\n",
       "      <td>5.0</td>\n",
       "      <td>1.0</td>\n",
       "      <td>1.0</td>\n",
       "      <td>1.0</td>\n",
       "      <td>0.0283</td>\n",
       "      <td>0.0277</td>\n",
       "      <td>0.0264</td>\n",
       "      <td>0.026</td>\n",
       "      <td>0.50200</td>\n",
       "      <td>0.472</td>\n",
       "      <td>0.000001</td>\n",
       "      <td>0.000000</td>\n",
       "      <td>0.000001</td>\n",
       "      <td>0.182</td>\n",
       "      <td>0.3070</td>\n",
       "      <td>0.1210</td>\n",
       "      <td>0.755</td>\n",
       "      <td>0.651</td>\n",
       "      <td>0.263</td>\n",
       "      <td>120.285</td>\n",
       "      <td>94.054</td>\n",
       "      <td>130.011</td>\n",
       "      <td>4.0</td>\n",
       "      <td>4.0</td>\n",
       "      <td>4.0</td>\n",
       "      <td>53</td>\n",
       "    </tr>\n",
       "    <tr>\n",
       "      <th>4</th>\n",
       "      <td>4</td>\n",
       "      <td>glisten</td>\n",
       "      <td>2018-05-04</td>\n",
       "      <td>Jeremy Zucker,</td>\n",
       "      <td>4</td>\n",
       "      <td>all the kids are depressed</td>\n",
       "      <td>wildfire</td>\n",
       "      <td>glisten (interlude)</td>\n",
       "      <td>169973</td>\n",
       "      <td>163000.0</td>\n",
       "      <td>89106.0</td>\n",
       "      <td>0.773</td>\n",
       "      <td>0.488</td>\n",
       "      <td>0.653</td>\n",
       "      <td>0.437</td>\n",
       "      <td>0.311</td>\n",
       "      <td>0.159</td>\n",
       "      <td>9.0</td>\n",
       "      <td>1.0</td>\n",
       "      <td>1.0</td>\n",
       "      <td>1.0</td>\n",
       "      <td>1.0</td>\n",
       "      <td>1.0</td>\n",
       "      <td>0.0963</td>\n",
       "      <td>0.0631</td>\n",
       "      <td>0.0551</td>\n",
       "      <td>0.836</td>\n",
       "      <td>0.48600</td>\n",
       "      <td>0.812</td>\n",
       "      <td>0.000024</td>\n",
       "      <td>0.000008</td>\n",
       "      <td>0.000000</td>\n",
       "      <td>0.544</td>\n",
       "      <td>0.1130</td>\n",
       "      <td>0.1550</td>\n",
       "      <td>0.707</td>\n",
       "      <td>0.426</td>\n",
       "      <td>0.466</td>\n",
       "      <td>103.861</td>\n",
       "      <td>129.170</td>\n",
       "      <td>116.349</td>\n",
       "      <td>4.0</td>\n",
       "      <td>4.0</td>\n",
       "      <td>4.0</td>\n",
       "      <td>70</td>\n",
       "    </tr>\n",
       "  </tbody>\n",
       "</table>\n",
       "</div>"
      ],
      "text/plain": [
       "   id                           name release_date  \\\n",
       "0   0             Ya Solo Eres Mi Ex   2021-09-09   \n",
       "1   1                         Nibiru   2019-11-29   \n",
       "2   2                          DAMN.   2017-04-14   \n",
       "3   3  Did I Shave My Legs For This?   1996-01-01   \n",
       "4   4                        glisten   2018-05-04   \n",
       "\n",
       "                                    artists  total_tracks  \\\n",
       "0  La Adictiva Banda San José de Mesillas,              7   \n",
       "1                                   Ozuna,             18   \n",
       "2                          Kendrick Lamar,             14   \n",
       "3                            Deana Carter,             11   \n",
       "4                           Jeremy Zucker,              4   \n",
       "\n",
       "                      t_name0                 t_name1                 t_name2  \\\n",
       "0          Ya Solo Eres Mi Ex            La Malagueña  México Lindo y Querido   \n",
       "1                      Nibiru  Hasta Que Salga el Sol                Temporal   \n",
       "2                      BLOOD.                    DNA.                    YAH.   \n",
       "3   I've Loved Enough To Know        We Danced Anyway             Count Me In   \n",
       "4  all the kids are depressed                wildfire     glisten (interlude)   \n",
       "\n",
       "   t_dur0    t_dur1    t_dur2  t_dance0  t_dance1  t_dance2  t_energy0  \\\n",
       "0  222133  189133.0  165586.0     0.455     0.699     0.456      0.324   \n",
       "1  158826  188480.0  238293.0     0.814     0.826     0.697      0.566   \n",
       "2  118066  185946.0  160293.0     0.357     0.638     0.670      0.238   \n",
       "3  203693  202533.0  205373.0     0.640     0.629     0.616      0.707   \n",
       "4  169973  163000.0   89106.0     0.773     0.488     0.653      0.437   \n",
       "\n",
       "   t_energy1  t_energy2  t_key0  t_key1  t_key2  t_mode0  t_mode1  t_mode2  \\\n",
       "0      0.485      0.567     7.0     4.0     0.0      1.0      0.0      1.0   \n",
       "1      0.816      0.593    10.0     1.0     2.0      0.0      0.0      0.0   \n",
       "2      0.523      0.700     8.0     1.0     1.0      0.0      1.0      1.0   \n",
       "3      0.721      0.327     8.0     6.0     5.0      1.0      1.0      1.0   \n",
       "4      0.311      0.159     9.0     1.0     1.0      1.0      1.0      1.0   \n",
       "\n",
       "   t_speech0  t_speech1  t_speech2  t_acous0  t_acous1  t_acous2    t_ins0  \\\n",
       "0     0.0420     0.0298     0.0751     0.537   0.61500     0.319  0.000000   \n",
       "1     0.3440     0.0683     0.1940     0.081   0.02010     0.227  0.000023   \n",
       "2     0.2650     0.3570     0.1960     0.142   0.00454     0.576  0.085900   \n",
       "3     0.0283     0.0277     0.0264     0.026   0.50200     0.472  0.000001   \n",
       "4     0.0963     0.0631     0.0551     0.836   0.48600     0.812  0.000024   \n",
       "\n",
       "     t_ins1    t_ins2  t_live0  t_live1  t_live2  t_val0  t_val1  t_val2  \\\n",
       "0  0.000022  0.000006    0.125   0.1080   0.0407   0.626   0.878   0.833   \n",
       "1  0.000939  0.000000    0.106   0.1270   0.1100   0.158   0.598   0.484   \n",
       "2  0.000000  0.000005    0.550   0.0842   0.2260   0.494   0.422   0.648   \n",
       "3  0.000000  0.000001    0.182   0.3070   0.1210   0.755   0.651   0.263   \n",
       "4  0.000008  0.000000    0.544   0.1130   0.1550   0.707   0.426   0.466   \n",
       "\n",
       "   t_tempo0  t_tempo1  t_tempo2  t_sig0  t_sig1  t_sig2  popularity  \n",
       "0    74.924   126.970   197.836     4.0     3.0     3.0          51  \n",
       "1   173.023    96.042   148.019     4.0     4.0     4.0          67  \n",
       "2   156.907   139.913    69.986     4.0     4.0     4.0          81  \n",
       "3   120.285    94.054   130.011     4.0     4.0     4.0          53  \n",
       "4   103.861   129.170   116.349     4.0     4.0     4.0          70  "
      ]
     },
     "execution_count": 3,
     "metadata": {},
     "output_type": "execute_result"
    }
   ],
   "source": [
    "data_train.head()"
   ]
  },
  {
   "cell_type": "code",
   "execution_count": 4,
   "metadata": {},
   "outputs": [
    {
     "data": {
      "text/plain": [
       "(160000, 45)"
      ]
     },
     "execution_count": 4,
     "metadata": {},
     "output_type": "execute_result"
    }
   ],
   "source": [
    "data_train.shape"
   ]
  },
  {
   "cell_type": "code",
   "execution_count": 5,
   "metadata": {},
   "outputs": [],
   "source": [
    "data_test = pd.read_csv('data/test.csv')"
   ]
  },
  {
   "cell_type": "code",
   "execution_count": 6,
   "metadata": {},
   "outputs": [
    {
     "data": {
      "text/html": [
       "<div>\n",
       "<style scoped>\n",
       "    .dataframe tbody tr th:only-of-type {\n",
       "        vertical-align: middle;\n",
       "    }\n",
       "\n",
       "    .dataframe tbody tr th {\n",
       "        vertical-align: top;\n",
       "    }\n",
       "\n",
       "    .dataframe thead th {\n",
       "        text-align: right;\n",
       "    }\n",
       "</style>\n",
       "<table border=\"1\" class=\"dataframe\">\n",
       "  <thead>\n",
       "    <tr style=\"text-align: right;\">\n",
       "      <th></th>\n",
       "      <th>id</th>\n",
       "      <th>name</th>\n",
       "      <th>release_date</th>\n",
       "      <th>artists</th>\n",
       "      <th>total_tracks</th>\n",
       "      <th>t_name0</th>\n",
       "      <th>t_name1</th>\n",
       "      <th>t_name2</th>\n",
       "      <th>t_dur0</th>\n",
       "      <th>t_dur1</th>\n",
       "      <th>t_dur2</th>\n",
       "      <th>t_dance0</th>\n",
       "      <th>t_dance1</th>\n",
       "      <th>t_dance2</th>\n",
       "      <th>t_energy0</th>\n",
       "      <th>t_energy1</th>\n",
       "      <th>t_energy2</th>\n",
       "      <th>t_key0</th>\n",
       "      <th>t_key1</th>\n",
       "      <th>t_key2</th>\n",
       "      <th>t_mode0</th>\n",
       "      <th>t_mode1</th>\n",
       "      <th>t_mode2</th>\n",
       "      <th>t_speech0</th>\n",
       "      <th>t_speech1</th>\n",
       "      <th>t_speech2</th>\n",
       "      <th>t_acous0</th>\n",
       "      <th>t_acous1</th>\n",
       "      <th>t_acous2</th>\n",
       "      <th>t_ins0</th>\n",
       "      <th>t_ins1</th>\n",
       "      <th>t_ins2</th>\n",
       "      <th>t_live0</th>\n",
       "      <th>t_live1</th>\n",
       "      <th>t_live2</th>\n",
       "      <th>t_val0</th>\n",
       "      <th>t_val1</th>\n",
       "      <th>t_val2</th>\n",
       "      <th>t_tempo0</th>\n",
       "      <th>t_tempo1</th>\n",
       "      <th>t_tempo2</th>\n",
       "      <th>t_sig0</th>\n",
       "      <th>t_sig1</th>\n",
       "      <th>t_sig2</th>\n",
       "    </tr>\n",
       "  </thead>\n",
       "  <tbody>\n",
       "    <tr>\n",
       "      <th>0</th>\n",
       "      <td>160000</td>\n",
       "      <td>Vizlaxy One</td>\n",
       "      <td>2021-08-24</td>\n",
       "      <td>The Vizlaxy,</td>\n",
       "      <td>11</td>\n",
       "      <td>Ciko</td>\n",
       "      <td>Kumne</td>\n",
       "      <td>Pod Sem</td>\n",
       "      <td>34901</td>\n",
       "      <td>33343.0</td>\n",
       "      <td>32896.0</td>\n",
       "      <td>0.239</td>\n",
       "      <td>0.278</td>\n",
       "      <td>0.453</td>\n",
       "      <td>0.105</td>\n",
       "      <td>0.0685</td>\n",
       "      <td>0.171</td>\n",
       "      <td>0.0</td>\n",
       "      <td>0.0</td>\n",
       "      <td>4.0</td>\n",
       "      <td>1.0</td>\n",
       "      <td>1.0</td>\n",
       "      <td>1.0</td>\n",
       "      <td>0.0352</td>\n",
       "      <td>0.0418</td>\n",
       "      <td>0.0681</td>\n",
       "      <td>0.983000</td>\n",
       "      <td>0.970000</td>\n",
       "      <td>0.996000</td>\n",
       "      <td>0.979000</td>\n",
       "      <td>0.986</td>\n",
       "      <td>0.929000</td>\n",
       "      <td>0.1090</td>\n",
       "      <td>0.118</td>\n",
       "      <td>0.0785</td>\n",
       "      <td>0.0397</td>\n",
       "      <td>0.0381</td>\n",
       "      <td>0.0374</td>\n",
       "      <td>89.674</td>\n",
       "      <td>84.987</td>\n",
       "      <td>122.585</td>\n",
       "      <td>3.0</td>\n",
       "      <td>4.0</td>\n",
       "      <td>4.0</td>\n",
       "    </tr>\n",
       "    <tr>\n",
       "      <th>1</th>\n",
       "      <td>160001</td>\n",
       "      <td>OTW (Acoustic Version)</td>\n",
       "      <td>2018-06-25</td>\n",
       "      <td>Missy &amp; Blonde,</td>\n",
       "      <td>1</td>\n",
       "      <td>OTW - Acoustic Version</td>\n",
       "      <td>NaN</td>\n",
       "      <td>NaN</td>\n",
       "      <td>201655</td>\n",
       "      <td>NaN</td>\n",
       "      <td>NaN</td>\n",
       "      <td>0.595</td>\n",
       "      <td>NaN</td>\n",
       "      <td>NaN</td>\n",
       "      <td>0.294</td>\n",
       "      <td>NaN</td>\n",
       "      <td>NaN</td>\n",
       "      <td>8.0</td>\n",
       "      <td>NaN</td>\n",
       "      <td>NaN</td>\n",
       "      <td>0.0</td>\n",
       "      <td>NaN</td>\n",
       "      <td>NaN</td>\n",
       "      <td>0.0370</td>\n",
       "      <td>NaN</td>\n",
       "      <td>NaN</td>\n",
       "      <td>0.851000</td>\n",
       "      <td>NaN</td>\n",
       "      <td>NaN</td>\n",
       "      <td>0.000000</td>\n",
       "      <td>NaN</td>\n",
       "      <td>NaN</td>\n",
       "      <td>0.1290</td>\n",
       "      <td>NaN</td>\n",
       "      <td>NaN</td>\n",
       "      <td>0.5300</td>\n",
       "      <td>NaN</td>\n",
       "      <td>NaN</td>\n",
       "      <td>129.998</td>\n",
       "      <td>NaN</td>\n",
       "      <td>NaN</td>\n",
       "      <td>4.0</td>\n",
       "      <td>NaN</td>\n",
       "      <td>NaN</td>\n",
       "    </tr>\n",
       "    <tr>\n",
       "      <th>2</th>\n",
       "      <td>160002</td>\n",
       "      <td>Ocean Avenue</td>\n",
       "      <td>2003-01-01</td>\n",
       "      <td>Yellowcard,</td>\n",
       "      <td>13</td>\n",
       "      <td>Way Away</td>\n",
       "      <td>Breathing</td>\n",
       "      <td>Ocean Avenue</td>\n",
       "      <td>202093</td>\n",
       "      <td>218706.0</td>\n",
       "      <td>198266.0</td>\n",
       "      <td>0.357</td>\n",
       "      <td>0.382</td>\n",
       "      <td>0.486</td>\n",
       "      <td>0.959</td>\n",
       "      <td>0.9320</td>\n",
       "      <td>0.904</td>\n",
       "      <td>2.0</td>\n",
       "      <td>4.0</td>\n",
       "      <td>6.0</td>\n",
       "      <td>0.0</td>\n",
       "      <td>0.0</td>\n",
       "      <td>0.0</td>\n",
       "      <td>0.1130</td>\n",
       "      <td>0.0716</td>\n",
       "      <td>0.0638</td>\n",
       "      <td>0.000007</td>\n",
       "      <td>0.000035</td>\n",
       "      <td>0.000034</td>\n",
       "      <td>0.000039</td>\n",
       "      <td>0.000</td>\n",
       "      <td>0.000028</td>\n",
       "      <td>0.0825</td>\n",
       "      <td>0.243</td>\n",
       "      <td>0.0947</td>\n",
       "      <td>0.3640</td>\n",
       "      <td>0.5700</td>\n",
       "      <td>0.7860</td>\n",
       "      <td>179.644</td>\n",
       "      <td>179.581</td>\n",
       "      <td>173.734</td>\n",
       "      <td>4.0</td>\n",
       "      <td>4.0</td>\n",
       "      <td>4.0</td>\n",
       "    </tr>\n",
       "    <tr>\n",
       "      <th>3</th>\n",
       "      <td>160003</td>\n",
       "      <td>Bloomsday (Remastered)</td>\n",
       "      <td>2018-02-16</td>\n",
       "      <td>Esbe,</td>\n",
       "      <td>19</td>\n",
       "      <td>Float - Remastered</td>\n",
       "      <td>Fulfill / The Dream - Remastered</td>\n",
       "      <td>Wanderlust - Remastered</td>\n",
       "      <td>182783</td>\n",
       "      <td>416000.0</td>\n",
       "      <td>214925.0</td>\n",
       "      <td>0.712</td>\n",
       "      <td>0.322</td>\n",
       "      <td>0.689</td>\n",
       "      <td>0.430</td>\n",
       "      <td>0.5690</td>\n",
       "      <td>0.643</td>\n",
       "      <td>9.0</td>\n",
       "      <td>0.0</td>\n",
       "      <td>2.0</td>\n",
       "      <td>0.0</td>\n",
       "      <td>1.0</td>\n",
       "      <td>1.0</td>\n",
       "      <td>0.0992</td>\n",
       "      <td>0.0468</td>\n",
       "      <td>0.0568</td>\n",
       "      <td>0.067000</td>\n",
       "      <td>0.125000</td>\n",
       "      <td>0.003600</td>\n",
       "      <td>0.892000</td>\n",
       "      <td>0.631</td>\n",
       "      <td>0.590000</td>\n",
       "      <td>0.0992</td>\n",
       "      <td>0.437</td>\n",
       "      <td>0.2600</td>\n",
       "      <td>0.4560</td>\n",
       "      <td>0.1070</td>\n",
       "      <td>0.5830</td>\n",
       "      <td>194.107</td>\n",
       "      <td>89.533</td>\n",
       "      <td>134.016</td>\n",
       "      <td>3.0</td>\n",
       "      <td>4.0</td>\n",
       "      <td>4.0</td>\n",
       "    </tr>\n",
       "    <tr>\n",
       "      <th>4</th>\n",
       "      <td>160004</td>\n",
       "      <td>Miss You</td>\n",
       "      <td>2021-09-03</td>\n",
       "      <td>SLANDER, Ganja White Night,</td>\n",
       "      <td>1</td>\n",
       "      <td>Miss You</td>\n",
       "      <td>NaN</td>\n",
       "      <td>NaN</td>\n",
       "      <td>200000</td>\n",
       "      <td>NaN</td>\n",
       "      <td>NaN</td>\n",
       "      <td>0.392</td>\n",
       "      <td>NaN</td>\n",
       "      <td>NaN</td>\n",
       "      <td>0.472</td>\n",
       "      <td>NaN</td>\n",
       "      <td>NaN</td>\n",
       "      <td>1.0</td>\n",
       "      <td>NaN</td>\n",
       "      <td>NaN</td>\n",
       "      <td>0.0</td>\n",
       "      <td>NaN</td>\n",
       "      <td>NaN</td>\n",
       "      <td>0.0481</td>\n",
       "      <td>NaN</td>\n",
       "      <td>NaN</td>\n",
       "      <td>0.088300</td>\n",
       "      <td>NaN</td>\n",
       "      <td>NaN</td>\n",
       "      <td>0.000001</td>\n",
       "      <td>NaN</td>\n",
       "      <td>NaN</td>\n",
       "      <td>0.0954</td>\n",
       "      <td>NaN</td>\n",
       "      <td>NaN</td>\n",
       "      <td>0.0526</td>\n",
       "      <td>NaN</td>\n",
       "      <td>NaN</td>\n",
       "      <td>74.473</td>\n",
       "      <td>NaN</td>\n",
       "      <td>NaN</td>\n",
       "      <td>4.0</td>\n",
       "      <td>NaN</td>\n",
       "      <td>NaN</td>\n",
       "    </tr>\n",
       "  </tbody>\n",
       "</table>\n",
       "</div>"
      ],
      "text/plain": [
       "       id                    name release_date                       artists  \\\n",
       "0  160000             Vizlaxy One   2021-08-24                 The Vizlaxy,    \n",
       "1  160001  OTW (Acoustic Version)   2018-06-25              Missy & Blonde,    \n",
       "2  160002            Ocean Avenue   2003-01-01                  Yellowcard,    \n",
       "3  160003  Bloomsday (Remastered)   2018-02-16                        Esbe,    \n",
       "4  160004                Miss You   2021-09-03  SLANDER, Ganja White Night,    \n",
       "\n",
       "   total_tracks                 t_name0                           t_name1  \\\n",
       "0            11                    Ciko                             Kumne   \n",
       "1             1  OTW - Acoustic Version                               NaN   \n",
       "2            13                Way Away                         Breathing   \n",
       "3            19      Float - Remastered  Fulfill / The Dream - Remastered   \n",
       "4             1                Miss You                               NaN   \n",
       "\n",
       "                   t_name2  t_dur0    t_dur1    t_dur2  t_dance0  t_dance1  \\\n",
       "0                  Pod Sem   34901   33343.0   32896.0     0.239     0.278   \n",
       "1                      NaN  201655       NaN       NaN     0.595       NaN   \n",
       "2             Ocean Avenue  202093  218706.0  198266.0     0.357     0.382   \n",
       "3  Wanderlust - Remastered  182783  416000.0  214925.0     0.712     0.322   \n",
       "4                      NaN  200000       NaN       NaN     0.392       NaN   \n",
       "\n",
       "   t_dance2  t_energy0  t_energy1  t_energy2  t_key0  t_key1  t_key2  t_mode0  \\\n",
       "0     0.453      0.105     0.0685      0.171     0.0     0.0     4.0      1.0   \n",
       "1       NaN      0.294        NaN        NaN     8.0     NaN     NaN      0.0   \n",
       "2     0.486      0.959     0.9320      0.904     2.0     4.0     6.0      0.0   \n",
       "3     0.689      0.430     0.5690      0.643     9.0     0.0     2.0      0.0   \n",
       "4       NaN      0.472        NaN        NaN     1.0     NaN     NaN      0.0   \n",
       "\n",
       "   t_mode1  t_mode2  t_speech0  t_speech1  t_speech2  t_acous0  t_acous1  \\\n",
       "0      1.0      1.0     0.0352     0.0418     0.0681  0.983000  0.970000   \n",
       "1      NaN      NaN     0.0370        NaN        NaN  0.851000       NaN   \n",
       "2      0.0      0.0     0.1130     0.0716     0.0638  0.000007  0.000035   \n",
       "3      1.0      1.0     0.0992     0.0468     0.0568  0.067000  0.125000   \n",
       "4      NaN      NaN     0.0481        NaN        NaN  0.088300       NaN   \n",
       "\n",
       "   t_acous2    t_ins0  t_ins1    t_ins2  t_live0  t_live1  t_live2  t_val0  \\\n",
       "0  0.996000  0.979000   0.986  0.929000   0.1090    0.118   0.0785  0.0397   \n",
       "1       NaN  0.000000     NaN       NaN   0.1290      NaN      NaN  0.5300   \n",
       "2  0.000034  0.000039   0.000  0.000028   0.0825    0.243   0.0947  0.3640   \n",
       "3  0.003600  0.892000   0.631  0.590000   0.0992    0.437   0.2600  0.4560   \n",
       "4       NaN  0.000001     NaN       NaN   0.0954      NaN      NaN  0.0526   \n",
       "\n",
       "   t_val1  t_val2  t_tempo0  t_tempo1  t_tempo2  t_sig0  t_sig1  t_sig2  \n",
       "0  0.0381  0.0374    89.674    84.987   122.585     3.0     4.0     4.0  \n",
       "1     NaN     NaN   129.998       NaN       NaN     4.0     NaN     NaN  \n",
       "2  0.5700  0.7860   179.644   179.581   173.734     4.0     4.0     4.0  \n",
       "3  0.1070  0.5830   194.107    89.533   134.016     3.0     4.0     4.0  \n",
       "4     NaN     NaN    74.473       NaN       NaN     4.0     NaN     NaN  "
      ]
     },
     "execution_count": 6,
     "metadata": {},
     "output_type": "execute_result"
    }
   ],
   "source": [
    "data_test.head()"
   ]
  },
  {
   "cell_type": "code",
   "execution_count": 7,
   "metadata": {},
   "outputs": [
    {
     "data": {
      "text/plain": [
       "(21207, 44)"
      ]
     },
     "execution_count": 7,
     "metadata": {},
     "output_type": "execute_result"
    }
   ],
   "source": [
    "data_test.shape"
   ]
  },
  {
   "cell_type": "code",
   "execution_count": 8,
   "metadata": {},
   "outputs": [],
   "source": [
    "data = pd.concat([data_train, data_test]).reset_index(drop=True)"
   ]
  },
  {
   "cell_type": "code",
   "execution_count": 9,
   "metadata": {},
   "outputs": [
    {
     "data": {
      "text/plain": [
       "(181207, 45)"
      ]
     },
     "execution_count": 9,
     "metadata": {},
     "output_type": "execute_result"
    }
   ],
   "source": [
    "data.shape"
   ]
  },
  {
   "cell_type": "markdown",
   "metadata": {},
   "source": [
    "### Explore data"
   ]
  },
  {
   "cell_type": "code",
   "execution_count": 10,
   "metadata": {},
   "outputs": [
    {
     "data": {
      "text/plain": [
       "199064.77318205146"
      ]
     },
     "execution_count": 10,
     "metadata": {},
     "output_type": "execute_result"
    }
   ],
   "source": [
    "data['t_dur0'].mean()"
   ]
  },
  {
   "cell_type": "code",
   "execution_count": 11,
   "metadata": {},
   "outputs": [
    {
     "data": {
      "text/plain": [
       "213412.0950920969"
      ]
     },
     "execution_count": 11,
     "metadata": {},
     "output_type": "execute_result"
    }
   ],
   "source": [
    "data['t_dur1'].mean()"
   ]
  },
  {
   "cell_type": "code",
   "execution_count": 12,
   "metadata": {},
   "outputs": [
    {
     "data": {
      "text/plain": [
       "214206.37636307412"
      ]
     },
     "execution_count": 12,
     "metadata": {},
     "output_type": "execute_result"
    }
   ],
   "source": [
    "data['t_dur2'].mean()"
   ]
  },
  {
   "cell_type": "markdown",
   "metadata": {},
   "source": [
    "### Calculate average duration"
   ]
  },
  {
   "cell_type": "code",
   "execution_count": 13,
   "metadata": {},
   "outputs": [],
   "source": [
    "data['duration'] = data[['t_dur0', 't_dur1', 't_dur2']].mean(axis=1)"
   ]
  },
  {
   "cell_type": "code",
   "execution_count": 14,
   "metadata": {},
   "outputs": [],
   "source": [
    "data['year'] = data['release_date'].apply(lambda x: x.split('-')[0])"
   ]
  },
  {
   "cell_type": "code",
   "execution_count": 15,
   "metadata": {},
   "outputs": [],
   "source": [
    "df = data[['year', 'duration']]"
   ]
  },
  {
   "cell_type": "code",
   "execution_count": 16,
   "metadata": {},
   "outputs": [
    {
     "data": {
      "text/plain": [
       "181207"
      ]
     },
     "execution_count": 16,
     "metadata": {},
     "output_type": "execute_result"
    }
   ],
   "source": [
    "len(df)"
   ]
  },
  {
   "cell_type": "code",
   "execution_count": 17,
   "metadata": {},
   "outputs": [
    {
     "data": {
      "text/html": [
       "<div>\n",
       "<style scoped>\n",
       "    .dataframe tbody tr th:only-of-type {\n",
       "        vertical-align: middle;\n",
       "    }\n",
       "\n",
       "    .dataframe tbody tr th {\n",
       "        vertical-align: top;\n",
       "    }\n",
       "\n",
       "    .dataframe thead th {\n",
       "        text-align: right;\n",
       "    }\n",
       "</style>\n",
       "<table border=\"1\" class=\"dataframe\">\n",
       "  <thead>\n",
       "    <tr style=\"text-align: right;\">\n",
       "      <th></th>\n",
       "      <th>year</th>\n",
       "      <th>duration</th>\n",
       "    </tr>\n",
       "  </thead>\n",
       "  <tbody>\n",
       "    <tr>\n",
       "      <th>0</th>\n",
       "      <td>2021</td>\n",
       "      <td>192284.000000</td>\n",
       "    </tr>\n",
       "    <tr>\n",
       "      <th>1</th>\n",
       "      <td>2019</td>\n",
       "      <td>195199.666667</td>\n",
       "    </tr>\n",
       "    <tr>\n",
       "      <th>2</th>\n",
       "      <td>2017</td>\n",
       "      <td>154768.333333</td>\n",
       "    </tr>\n",
       "    <tr>\n",
       "      <th>3</th>\n",
       "      <td>1996</td>\n",
       "      <td>203866.333333</td>\n",
       "    </tr>\n",
       "    <tr>\n",
       "      <th>4</th>\n",
       "      <td>2018</td>\n",
       "      <td>140693.000000</td>\n",
       "    </tr>\n",
       "  </tbody>\n",
       "</table>\n",
       "</div>"
      ],
      "text/plain": [
       "   year       duration\n",
       "0  2021  192284.000000\n",
       "1  2019  195199.666667\n",
       "2  2017  154768.333333\n",
       "3  1996  203866.333333\n",
       "4  2018  140693.000000"
      ]
     },
     "execution_count": 17,
     "metadata": {},
     "output_type": "execute_result"
    }
   ],
   "source": [
    "df.head()"
   ]
  },
  {
   "cell_type": "markdown",
   "metadata": {},
   "source": [
    "### Start at 1970"
   ]
  },
  {
   "cell_type": "code",
   "execution_count": 18,
   "metadata": {},
   "outputs": [
    {
     "name": "stderr",
     "output_type": "stream",
     "text": [
      "C:\\Users\\A103033867\\AppData\\Local\\Temp\\ipykernel_13180\\2377385162.py:2: SettingWithCopyWarning: \n",
      "A value is trying to be set on a copy of a slice from a DataFrame.\n",
      "Try using .loc[row_indexer,col_indexer] = value instead\n",
      "\n",
      "See the caveats in the documentation: https://pandas.pydata.org/pandas-docs/stable/user_guide/indexing.html#returning-a-view-versus-a-copy\n",
      "  df['year'] = df['year'].apply(lambda x: int(x))\n",
      "C:\\Users\\A103033867\\AppData\\Local\\Temp\\ipykernel_13180\\2377385162.py:4: SettingWithCopyWarning: \n",
      "A value is trying to be set on a copy of a slice from a DataFrame\n",
      "\n",
      "See the caveats in the documentation: https://pandas.pydata.org/pandas-docs/stable/user_guide/indexing.html#returning-a-view-versus-a-copy\n",
      "  df.dropna(inplace=True)\n"
     ]
    }
   ],
   "source": [
    "# df_mean.sort_values('year')[29:34]\r\n",
    "df['year'] = df['year'].apply(lambda x: int(x))\r\n",
    "df = df[df['year'] > 1969]\r\n",
    "df.dropna(inplace=True)"
   ]
  },
  {
   "cell_type": "code",
   "execution_count": 19,
   "metadata": {},
   "outputs": [
    {
     "data": {
      "text/html": [
       "<div>\n",
       "<style scoped>\n",
       "    .dataframe tbody tr th:only-of-type {\n",
       "        vertical-align: middle;\n",
       "    }\n",
       "\n",
       "    .dataframe tbody tr th {\n",
       "        vertical-align: top;\n",
       "    }\n",
       "\n",
       "    .dataframe thead th {\n",
       "        text-align: right;\n",
       "    }\n",
       "</style>\n",
       "<table border=\"1\" class=\"dataframe\">\n",
       "  <thead>\n",
       "    <tr style=\"text-align: right;\">\n",
       "      <th></th>\n",
       "      <th>year</th>\n",
       "      <th>duration</th>\n",
       "    </tr>\n",
       "  </thead>\n",
       "  <tbody>\n",
       "    <tr>\n",
       "      <th>0</th>\n",
       "      <td>2021</td>\n",
       "      <td>192284.000000</td>\n",
       "    </tr>\n",
       "    <tr>\n",
       "      <th>1</th>\n",
       "      <td>2019</td>\n",
       "      <td>195199.666667</td>\n",
       "    </tr>\n",
       "    <tr>\n",
       "      <th>2</th>\n",
       "      <td>2017</td>\n",
       "      <td>154768.333333</td>\n",
       "    </tr>\n",
       "    <tr>\n",
       "      <th>3</th>\n",
       "      <td>1996</td>\n",
       "      <td>203866.333333</td>\n",
       "    </tr>\n",
       "    <tr>\n",
       "      <th>4</th>\n",
       "      <td>2018</td>\n",
       "      <td>140693.000000</td>\n",
       "    </tr>\n",
       "  </tbody>\n",
       "</table>\n",
       "</div>"
      ],
      "text/plain": [
       "   year       duration\n",
       "0  2021  192284.000000\n",
       "1  2019  195199.666667\n",
       "2  2017  154768.333333\n",
       "3  1996  203866.333333\n",
       "4  2018  140693.000000"
      ]
     },
     "execution_count": 19,
     "metadata": {},
     "output_type": "execute_result"
    }
   ],
   "source": [
    "df.head()"
   ]
  },
  {
   "cell_type": "code",
   "execution_count": 20,
   "metadata": {},
   "outputs": [
    {
     "data": {
      "text/plain": [
       "179860"
      ]
     },
     "execution_count": 20,
     "metadata": {},
     "output_type": "execute_result"
    }
   ],
   "source": [
    "len(df)"
   ]
  },
  {
   "cell_type": "code",
   "execution_count": 21,
   "metadata": {},
   "outputs": [],
   "source": [
    "# df.value_counts('year').sort_index()"
   ]
  },
  {
   "cell_type": "markdown",
   "metadata": {},
   "source": [
    "### Prepare data"
   ]
  },
  {
   "cell_type": "code",
   "execution_count": 22,
   "metadata": {},
   "outputs": [],
   "source": [
    "# df_median = df.groupby('year').median().reset_index()\r\n",
    "df_mean = df.groupby('year').mean().reset_index()"
   ]
  },
  {
   "cell_type": "code",
   "execution_count": 23,
   "metadata": {},
   "outputs": [],
   "source": [
    "# df_median['std'] = df.groupby('year').std(ddof=0).values\r\n",
    "df_mean['std'] = df.groupby('year').std(ddof=0).values"
   ]
  },
  {
   "cell_type": "code",
   "execution_count": 24,
   "metadata": {},
   "outputs": [
    {
     "data": {
      "text/html": [
       "<div>\n",
       "<style scoped>\n",
       "    .dataframe tbody tr th:only-of-type {\n",
       "        vertical-align: middle;\n",
       "    }\n",
       "\n",
       "    .dataframe tbody tr th {\n",
       "        vertical-align: top;\n",
       "    }\n",
       "\n",
       "    .dataframe thead th {\n",
       "        text-align: right;\n",
       "    }\n",
       "</style>\n",
       "<table border=\"1\" class=\"dataframe\">\n",
       "  <thead>\n",
       "    <tr style=\"text-align: right;\">\n",
       "      <th></th>\n",
       "      <th>year</th>\n",
       "      <th>duration</th>\n",
       "      <th>std</th>\n",
       "    </tr>\n",
       "  </thead>\n",
       "  <tbody>\n",
       "    <tr>\n",
       "      <th>0</th>\n",
       "      <td>1970</td>\n",
       "      <td>232330.055556</td>\n",
       "      <td>95726.855853</td>\n",
       "    </tr>\n",
       "    <tr>\n",
       "      <th>1</th>\n",
       "      <td>1971</td>\n",
       "      <td>258019.825911</td>\n",
       "      <td>125911.382094</td>\n",
       "    </tr>\n",
       "    <tr>\n",
       "      <th>2</th>\n",
       "      <td>1972</td>\n",
       "      <td>259673.677696</td>\n",
       "      <td>103308.148814</td>\n",
       "    </tr>\n",
       "    <tr>\n",
       "      <th>3</th>\n",
       "      <td>1973</td>\n",
       "      <td>255033.393110</td>\n",
       "      <td>119632.715322</td>\n",
       "    </tr>\n",
       "    <tr>\n",
       "      <th>4</th>\n",
       "      <td>1974</td>\n",
       "      <td>234397.940476</td>\n",
       "      <td>88537.623702</td>\n",
       "    </tr>\n",
       "  </tbody>\n",
       "</table>\n",
       "</div>"
      ],
      "text/plain": [
       "   year       duration            std\n",
       "0  1970  232330.055556   95726.855853\n",
       "1  1971  258019.825911  125911.382094\n",
       "2  1972  259673.677696  103308.148814\n",
       "3  1973  255033.393110  119632.715322\n",
       "4  1974  234397.940476   88537.623702"
      ]
     },
     "execution_count": 24,
     "metadata": {},
     "output_type": "execute_result"
    }
   ],
   "source": [
    "# df_median.head()\r\n",
    "df_mean.head()"
   ]
  },
  {
   "cell_type": "code",
   "execution_count": 25,
   "metadata": {},
   "outputs": [],
   "source": [
    "# x = df_median['year']\r\n",
    "x = df_mean['year']"
   ]
  },
  {
   "cell_type": "code",
   "execution_count": 26,
   "metadata": {},
   "outputs": [
    {
     "data": {
      "text/plain": [
       "0    1970\n",
       "1    1971\n",
       "2    1972\n",
       "3    1973\n",
       "4    1974\n",
       "Name: year, dtype: int64"
      ]
     },
     "execution_count": 26,
     "metadata": {},
     "output_type": "execute_result"
    }
   ],
   "source": [
    "x[:5]"
   ]
  },
  {
   "cell_type": "code",
   "execution_count": 27,
   "metadata": {},
   "outputs": [],
   "source": [
    "# y = df_median['duration']\r\n",
    "y = df_mean['duration']\r\n",
    "y = y/1000/60  # convert from ms to min"
   ]
  },
  {
   "cell_type": "code",
   "execution_count": 28,
   "metadata": {},
   "outputs": [
    {
     "data": {
      "text/plain": [
       "0    3.872168\n",
       "1    4.300330\n",
       "2    4.327895\n",
       "3    4.250557\n",
       "4    3.906632\n",
       "Name: duration, dtype: float64"
      ]
     },
     "execution_count": 28,
     "metadata": {},
     "output_type": "execute_result"
    }
   ],
   "source": [
    "y[:5]"
   ]
  },
  {
   "cell_type": "code",
   "execution_count": 29,
   "metadata": {},
   "outputs": [],
   "source": [
    "# err = df_median['std']/1000/60\r\n",
    "err = df_mean['std']/1000/60"
   ]
  },
  {
   "cell_type": "code",
   "execution_count": 30,
   "metadata": {},
   "outputs": [
    {
     "data": {
      "text/plain": [
       "0    1.595448\n",
       "1    2.098523\n",
       "2    1.721802\n",
       "3    1.993879\n",
       "4    1.475627\n",
       "Name: std, dtype: float64"
      ]
     },
     "execution_count": 30,
     "metadata": {},
     "output_type": "execute_result"
    }
   ],
   "source": [
    "err[:5]"
   ]
  },
  {
   "cell_type": "markdown",
   "metadata": {},
   "source": [
    "### Plot the data"
   ]
  },
  {
   "cell_type": "code",
   "execution_count": 31,
   "metadata": {},
   "outputs": [
    {
     "data": {
      "image/png": "[encoded data removed]",
      "text/plain": [
       "<Figure size 576x576 with 1 Axes>"
      ]
     },
     "metadata": {
      "needs_background": "light"
     },
     "output_type": "display_data"
    }
   ],
   "source": [
    "# e = df_mean['std'][-52:]/1000\r\n",
    "\r\n",
    "# A plain scatterplot\r\n",
    "fig, ax = plt.subplots(figsize=(8, 8))\r\n",
    "\r\n",
    "# ax.scatter(x[:5], y[:5], color='k', facecolor='none', s=50, alpha=1)\r\n",
    "# ax.scatter(x[5:7], y[5:7], color='k', facecolor='none', s=50, alpha=0.5)\r\n",
    "# ax.scatter(x[7:8], y[7:8], color='k', facecolor='none', s=50, alpha=1)\r\n",
    "# ax.scatter(x[8:9], y[8:9], color='k', facecolor='none', s=50, alpha=0.5)\r\n",
    "# ax.scatter(x[9:], y[9:], color='k', facecolor='none', s=50, alpha=1)\r\n",
    "\r\n",
    "ax.scatter(x, y, color='k', facecolor='none', s=50, alpha=1)\r\n",
    "# errobar = ax.errorbar(x, y, err, fmt='o')\r\n",
    "\r\n",
    "# ax.set_xticks(np.arange(0, len(x), 5))\r\n",
    "ax.set_xticks(np.arange(x.iloc[0], x.iloc[-1], 1), minor=True)\r\n",
    "ax.tick_params(axis = 'both', which = 'major', labelsize = 12)\r\n",
    "\r\n",
    "ax.set_xlabel('Year', fontsize=14)\r\n",
    "# ax.set_ylabel('Median song duration [min]', fontsize=14)\r\n",
    "ax.set_ylabel('Average song duration [min]', fontsize=14)\r\n",
    "\r\n",
    "ax.grid(alpha=0.8, color='grey', linestyle='dashed', zorder=0)\r\n",
    "\r\n",
    "# Spotify US-launch was in July 2011\r\n",
    "plt.axvline(x=2011, color='darkgreen', linestyle='--')\r\n",
    "\r\n",
    "# plt.plot(x_1, y_1_pred, color='k', alpha=1, linestyle=':')\r\n",
    "# plt.plot(x_2, y_2_pred, color='k', alpha=1, linestyle=':')\r\n",
    "\r\n",
    "plt.tight_layout()\r\n",
    "# plt.savefig('scatterplot.jpg')"
   ]
  },
  {
   "cell_type": "markdown",
   "metadata": {},
   "source": [
    "### Finalize the data"
   ]
  },
  {
   "cell_type": "code",
   "execution_count": 32,
   "metadata": {},
   "outputs": [],
   "source": [
    "# divide data into pre- and after-spotify (2011)\r\n",
    "x_1 = x[:-10]\r\n",
    "y_1 = y[:-10]\r\n",
    "\r\n",
    "x_2 = x[-10:]\r\n",
    "y_2 = y[-10:]"
   ]
  },
  {
   "cell_type": "code",
   "execution_count": 33,
   "metadata": {},
   "outputs": [
    {
     "data": {
      "text/plain": [
       "3.704363288052943"
      ]
     },
     "execution_count": 33,
     "metadata": {},
     "output_type": "execute_result"
    }
   ],
   "source": [
    "# remove outliers from first dataset\r\n",
    "x_1.pop(5)\r\n",
    "x_1.pop(6)\r\n",
    "x_1.pop(8)\r\n",
    "\r\n",
    "y_1.pop(5)\r\n",
    "y_1.pop(6)\r\n",
    "y_1.pop(8)"
   ]
  },
  {
   "cell_type": "code",
   "execution_count": 34,
   "metadata": {},
   "outputs": [],
   "source": [
    "x_1 = x_1.values.reshape(-1, 1)\r\n",
    "y_1 = y_1.values\r\n",
    "\r\n",
    "x_2 = x_2.values.reshape(-1, 1)\r\n",
    "y_2 = y_2.values"
   ]
  },
  {
   "cell_type": "markdown",
   "metadata": {},
   "source": [
    "## First dataset-part"
   ]
  },
  {
   "cell_type": "markdown",
   "metadata": {},
   "source": [
    "### Linear regression"
   ]
  },
  {
   "cell_type": "code",
   "execution_count": 35,
   "metadata": {},
   "outputs": [
    {
     "name": "stdout",
     "output_type": "stream",
     "text": [
      "Slope: [-0.01082882]\n"
     ]
    }
   ],
   "source": [
    "# fit\r\n",
    "regr_1 = LinearRegression()\r\n",
    "regr_1.fit(x_1, y_1)\r\n",
    "\r\n",
    "y_1_pred = regr_1.predict(x_1)\r\n",
    "\r\n",
    "print(\"Slope:\", regr_1.coef_)"
   ]
  },
  {
   "cell_type": "code",
   "execution_count": 36,
   "metadata": {},
   "outputs": [
    {
     "data": {
      "text/plain": [
       "[<matplotlib.lines.Line2D at 0x2673232b850>]"
      ]
     },
     "execution_count": 36,
     "metadata": {},
     "output_type": "execute_result"
    },
    {
     "data": {
      "image/png": "[encoded data removed]",
      "text/plain": [
       "<Figure size 432x288 with 1 Axes>"
      ]
     },
     "metadata": {
      "needs_background": "light"
     },
     "output_type": "display_data"
    }
   ],
   "source": [
    "# plot\r\n",
    "plt.scatter(x_1, y_1)\r\n",
    "plt.plot(x_1, y_1_pred)"
   ]
  },
  {
   "cell_type": "markdown",
   "metadata": {},
   "source": [
    "### Constant mean"
   ]
  },
  {
   "cell_type": "code",
   "execution_count": 98,
   "metadata": {},
   "outputs": [],
   "source": [
    "y_1_mean = np.empty_like(y_1)\r\n",
    "y_1_mean.fill(y_1.mean())"
   ]
  },
  {
   "cell_type": "code",
   "execution_count": 99,
   "metadata": {},
   "outputs": [
    {
     "data": {
      "text/plain": [
       "[<matplotlib.lines.Line2D at 0x1cf86fff940>]"
      ]
     },
     "execution_count": 99,
     "metadata": {},
     "output_type": "execute_result"
    },
    {
     "data": {
      "image/png": "[encoded data removed]",
      "text/plain": [
       "<Figure size 432x288 with 1 Axes>"
      ]
     },
     "metadata": {
      "needs_background": "light"
     },
     "output_type": "display_data"
    }
   ],
   "source": [
    "plt.scatter(x_1, y_1)\r\n",
    "plt.plot(x_1, y_1_mean)"
   ]
  },
  {
   "cell_type": "markdown",
   "metadata": {},
   "source": [
    "### Gaussian process regression"
   ]
  },
  {
   "cell_type": "code",
   "execution_count": 37,
   "metadata": {},
   "outputs": [],
   "source": [
    "from sklearn.gaussian_process import GaussianProcessRegressor\r\n",
    "from sklearn.gaussian_process.kernels import RBF, WhiteKernel, Matern, ExpSineSquared, RationalQuadratic, ConstantKernel"
   ]
  },
  {
   "cell_type": "code",
   "execution_count": 38,
   "metadata": {},
   "outputs": [],
   "source": [
    "# Instantiate a Gaussian Process model    \r\n",
    "kernel = 1.0 * RBF(length_scale=100.0, length_scale_bounds=(1e-2, 1e3)) \\\r\n",
    "         + WhiteKernel(noise_level=1, noise_level_bounds=(1e-10, 1e+1))"
   ]
  },
  {
   "cell_type": "code",
   "execution_count": 39,
   "metadata": {},
   "outputs": [],
   "source": [
    "gp = GaussianProcessRegressor(kernel=kernel, n_restarts_optimizer=100, normalize_y=False)"
   ]
  },
  {
   "cell_type": "code",
   "execution_count": 40,
   "metadata": {},
   "outputs": [
    {
     "data": {
      "text/html": [
       "<style>#sk-container-id-1 {color: black;background-color: white;}#sk-container-id-1 pre{padding: 0;}#sk-container-id-1 div.sk-toggleable {background-color: white;}#sk-container-id-1 label.sk-toggleable__label {cursor: pointer;display: block;width: 100%;margin-bottom: 0;padding: 0.3em;box-sizing: border-box;text-align: center;}#sk-container-id-1 label.sk-toggleable__label-arrow:before {content: \"▸\";float: left;margin-right: 0.25em;color: #696969;}#sk-container-id-1 label.sk-toggleable__label-arrow:hover:before {color: black;}#sk-container-id-1 div.sk-estimator:hover label.sk-toggleable__label-arrow:before {color: black;}#sk-container-id-1 div.sk-toggleable__content {max-height: 0;max-width: 0;overflow: hidden;text-align: left;background-color: #f0f8ff;}#sk-container-id-1 div.sk-toggleable__content pre {margin: 0.2em;color: black;border-radius: 0.25em;background-color: #f0f8ff;}#sk-container-id-1 input.sk-toggleable__control:checked~div.sk-toggleable__content {max-height: 200px;max-width: 100%;overflow: auto;}#sk-container-id-1 input.sk-toggleable__control:checked~label.sk-toggleable__label-arrow:before {content: \"▾\";}#sk-container-id-1 div.sk-estimator input.sk-toggleable__control:checked~label.sk-toggleable__label {background-color: #d4ebff;}#sk-container-id-1 div.sk-label input.sk-toggleable__control:checked~label.sk-toggleable__label {background-color: #d4ebff;}#sk-container-id-1 input.sk-hidden--visually {border: 0;clip: rect(1px 1px 1px 1px);clip: rect(1px, 1px, 1px, 1px);height: 1px;margin: -1px;overflow: hidden;padding: 0;position: absolute;width: 1px;}#sk-container-id-1 div.sk-estimator {font-family: monospace;background-color: #f0f8ff;border: 1px dotted black;border-radius: 0.25em;box-sizing: border-box;margin-bottom: 0.5em;}#sk-container-id-1 div.sk-estimator:hover {background-color: #d4ebff;}#sk-container-id-1 div.sk-parallel-item::after {content: \"\";width: 100%;border-bottom: 1px solid gray;flex-grow: 1;}#sk-container-id-1 div.sk-label:hover label.sk-toggleable__label {background-color: #d4ebff;}#sk-container-id-1 div.sk-serial::before {content: \"\";position: absolute;border-left: 1px solid gray;box-sizing: border-box;top: 0;bottom: 0;left: 50%;z-index: 0;}#sk-container-id-1 div.sk-serial {display: flex;flex-direction: column;align-items: center;background-color: white;padding-right: 0.2em;padding-left: 0.2em;position: relative;}#sk-container-id-1 div.sk-item {position: relative;z-index: 1;}#sk-container-id-1 div.sk-parallel {display: flex;align-items: stretch;justify-content: center;background-color: white;position: relative;}#sk-container-id-1 div.sk-item::before, #sk-container-id-1 div.sk-parallel-item::before {content: \"\";position: absolute;border-left: 1px solid gray;box-sizing: border-box;top: 0;bottom: 0;left: 50%;z-index: -1;}#sk-container-id-1 div.sk-parallel-item {display: flex;flex-direction: column;z-index: 1;position: relative;background-color: white;}#sk-container-id-1 div.sk-parallel-item:first-child::after {align-self: flex-end;width: 50%;}#sk-container-id-1 div.sk-parallel-item:last-child::after {align-self: flex-start;width: 50%;}#sk-container-id-1 div.sk-parallel-item:only-child::after {width: 0;}#sk-container-id-1 div.sk-dashed-wrapped {border: 1px dashed gray;margin: 0 0.4em 0.5em 0.4em;box-sizing: border-box;padding-bottom: 0.4em;background-color: white;}#sk-container-id-1 div.sk-label label {font-family: monospace;font-weight: bold;display: inline-block;line-height: 1.2em;}#sk-container-id-1 div.sk-label-container {text-align: center;}#sk-container-id-1 div.sk-container {/* jupyter's `normalize.less` sets `[hidden] { display: none; }` but bootstrap.min.css set `[hidden] { display: none !important; }` so we also need the `!important` here to be able to override the default hidden behavior on the sphinx rendered scikit-learn.org. See: https://github.com/scikit-learn/scikit-learn/issues/21755 */display: inline-block !important;position: relative;}#sk-container-id-1 div.sk-text-repr-fallback {display: none;}</style><div id=\"sk-container-id-1\" class=\"sk-top-container\"><div class=\"sk-text-repr-fallback\"><pre>GaussianProcessRegressor(kernel=1**2 * RBF(length_scale=100) + WhiteKernel(noise_level=1),\n",
       "                         n_restarts_optimizer=100)</pre><b>In a Jupyter environment, please rerun this cell to show the HTML representation or trust the notebook. <br />On GitHub, the HTML representation is unable to render, please try loading this page with nbviewer.org.</b></div><div class=\"sk-container\" hidden><div class=\"sk-item\"><div class=\"sk-estimator sk-toggleable\"><input class=\"sk-toggleable__control sk-hidden--visually\" id=\"sk-estimator-id-1\" type=\"checkbox\" checked><label for=\"sk-estimator-id-1\" class=\"sk-toggleable__label sk-toggleable__label-arrow\">GaussianProcessRegressor</label><div class=\"sk-toggleable__content\"><pre>GaussianProcessRegressor(kernel=1**2 * RBF(length_scale=100) + WhiteKernel(noise_level=1),\n",
       "                         n_restarts_optimizer=100)</pre></div></div></div></div></div>"
      ],
      "text/plain": [
       "GaussianProcessRegressor(kernel=1**2 * RBF(length_scale=100) + WhiteKernel(noise_level=1),\n",
       "                         n_restarts_optimizer=100)"
      ]
     },
     "execution_count": 40,
     "metadata": {},
     "output_type": "execute_result"
    }
   ],
   "source": [
    "# Fit to data using Maximum Likelihood Estimation of the parameters\r\n",
    "gp.fit(x_1, y_1)"
   ]
  },
  {
   "cell_type": "code",
   "execution_count": 41,
   "metadata": {},
   "outputs": [],
   "source": [
    "y_1_gauss = gp.predict(x_1, return_std=False)"
   ]
  },
  {
   "cell_type": "code",
   "execution_count": 42,
   "metadata": {},
   "outputs": [
    {
     "data": {
      "text/plain": [
       "[<matplotlib.lines.Line2D at 0x267323e7a60>]"
      ]
     },
     "execution_count": 42,
     "metadata": {},
     "output_type": "execute_result"
    },
    {
     "data": {
      "image/png": "[encoded data removed]",
      "text/plain": [
       "<Figure size 432x288 with 1 Axes>"
      ]
     },
     "metadata": {
      "needs_background": "light"
     },
     "output_type": "display_data"
    }
   ],
   "source": [
    "plt.plot(y_1_gauss)"
   ]
  },
  {
   "cell_type": "markdown",
   "metadata": {},
   "source": [
    "## Second dataset-part"
   ]
  },
  {
   "cell_type": "markdown",
   "metadata": {},
   "source": [
    "### Linear regression"
   ]
  },
  {
   "cell_type": "code",
   "execution_count": 43,
   "metadata": {},
   "outputs": [
    {
     "name": "stdout",
     "output_type": "stream",
     "text": [
      "Slope:  [-0.09836625]\n"
     ]
    }
   ],
   "source": [
    "# plot\r\n",
    "regr_2 = LinearRegression()\r\n",
    "regr_2.fit(x_2, y_2)\r\n",
    "\r\n",
    "x_2_pred = np.append(x_2, 2022).reshape(-1, 1)\r\n",
    "y_2_pred = regr_2.predict(x_2_pred)\r\n",
    "\r\n",
    "print(\"Slope: \", regr_2.coef_)"
   ]
  },
  {
   "cell_type": "code",
   "execution_count": 44,
   "metadata": {},
   "outputs": [
    {
     "data": {
      "text/plain": [
       "[<matplotlib.lines.Line2D at 0x267324d8f40>]"
      ]
     },
     "execution_count": 44,
     "metadata": {},
     "output_type": "execute_result"
    },
    {
     "data": {
      "image/png": "[encoded data removed]",
      "text/plain": [
       "<Figure size 432x288 with 1 Axes>"
      ]
     },
     "metadata": {
      "needs_background": "light"
     },
     "output_type": "display_data"
    }
   ],
   "source": [
    "# plot\r\n",
    "plt.scatter(x_2, y_2)\r\n",
    "plt.plot(x_2_pred, y_2_pred)"
   ]
  },
  {
   "cell_type": "markdown",
   "metadata": {},
   "source": [
    "## Final Plot"
   ]
  },
  {
   "cell_type": "code",
   "execution_count": 101,
   "metadata": {},
   "outputs": [
    {
     "data": {
      "image/png": "[encoded data removed]",
      "text/plain": [
       "<Figure size 576x576 with 1 Axes>"
      ]
     },
     "metadata": {
      "needs_background": "light"
     },
     "output_type": "display_data"
    }
   ],
   "source": [
    "# e = df_mean['std'][-52:]/1000\r\n",
    "\r\n",
    "# A plain scatterplot\r\n",
    "fig, ax = plt.subplots(figsize=(8, 8))\r\n",
    "\r\n",
    "# scatter = ax.scatter(x, y, color='k', facecolor='none', s=50, alpha=1)\r\n",
    "\r\n",
    "ax.scatter(x[:5], y[:5], color='k', facecolor='none', s=50, alpha=0.6)\r\n",
    "ax.scatter(x[5:7], y[5:7], color='k', facecolor='none', s=50, alpha=0.3)\r\n",
    "ax.scatter(x[7:8], y[7:8], color='k', facecolor='none', s=50, alpha=0.6)\r\n",
    "ax.scatter(x[8:9], y[8:9], color='k', facecolor='none', s=50, alpha=0.3)\r\n",
    "ax.scatter(x[9:], y[9:], color='k', facecolor='none', s=50, alpha=0.6)\r\n",
    "\r\n",
    "# err = ax.errorbar(x, y, e, fmt='o')\r\n",
    "\r\n",
    "# ax.set_xticks(np.arange(0, len(x), 5))\r\n",
    "ax.set_xticks(np.arange(x.iloc[0], x.iloc[-1]+1, 1), minor=True)\r\n",
    "ax.tick_params(axis = 'both', which = 'major', labelsize = 12)\r\n",
    "\r\n",
    "ax.set_xlabel('Release year', fontsize=14)\r\n",
    "ax.set_ylabel('Average song duration [min]', fontsize=14)\r\n",
    "\r\n",
    "# ax.grid(alpha=0.8, color='grey', linestyle='dashed', zorder=0)\r\n",
    "\r\n",
    "plt.axvline(x=2011, ymin=0, ymax=0.98, color='darkgreen', linestyle='--', linewidth=1.5, label=\"Spotify's US launch (2011)\")\r\n",
    "\r\n",
    "# plt.plot(x_1, y_1_pred, color='k', alpha=1, linestyle=':')\r\n",
    "# plt.plot(x_1, y_1_mean, color='k', alpha=1, linestyle=':')\r\n",
    "# plt.plot(x_1, test_func(x_1, dist, amp, omega, phi), color='k', alpha=1, linestyle=':')  \r\n",
    "plt.plot(x_1, y_1_gauss, color='k', alpha=1, linestyle=':', linewidth=2)  \r\n",
    "plt.plot(x_2_pred, y_2_pred, color='k', alpha=1, linestyle=':', linewidth=2)\r\n",
    "\r\n",
    "# leg = ax.legend(loc='upper right', bbox_to_anchor=(0.76, 0.1), frameon=False, markerfirst=True)\r\n",
    "ax.text(1997.7, 4.6, \"Spotify's US launch\")\r\n",
    "\r\n",
    "# plt.tight_layout()\r\n",
    "plt.savefig('final_plot.pdf')\r\n",
    "plt.savefig('final_plot.jpg')\r\n",
    "\r\n",
    "# Füge Legende für Regressions hinzu "
   ]
  },
  {
   "cell_type": "code",
   "execution_count": null,
   "metadata": {},
   "outputs": [],
   "source": []
  }
 ],
 "metadata": {
  "interpreter": {
   "hash": "ef088bdb2bb1f1845e57a653a3f38202c9ec9b42ac4c8d43796bbe4415e7175d"
  },
  "kernelspec": {
   "display_name": "Python 3.9.4 64-bit ('venv')",
   "name": "python3"
  },
  "language_info": {
   "codemirror_mode": {
    "name": "ipython",
    "version": 3
   },
   "file_extension": ".py",
   "mimetype": "text/x-python",
   "name": "python",
   "nbconvert_exporter": "python",
   "pygments_lexer": "ipython3",
   "version": "3.9.4"
  },
  "orig_nbformat": 4
 },
 "nbformat": 4,
 "nbformat_minor": 2
}